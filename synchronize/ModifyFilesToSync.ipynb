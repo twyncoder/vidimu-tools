{
 "cells": [
  {
   "cell_type": "code",
   "execution_count": 1,
   "metadata": {},
   "outputs": [],
   "source": [
    "import os\n",
    "import sys\n",
    "import pandas as pd\n",
    "sys.path.append(os.path.dirname(os.getcwd())) #Add project dir to path\n",
    "from utils.syncUtilities import plotFramesShiftToSyncrhonizeAllSubjectsOneActivity,getMainJointFromMotAndMainBonesFromCSV, getSamplesToSynchronize, SynchronizeAndCutSignals"
   ]
  },
  {
   "cell_type": "code",
   "execution_count": 2,
   "metadata": {},
   "outputs": [],
   "source": [
    "import utils.fileProcessing as fileutil "
   ]
  },
  {
   "attachments": {},
   "cell_type": "markdown",
   "metadata": {},
   "source": [
    "## Modifies VIDIMU text dataset files for estimated ideal synchronization according to `infoToSync.csv`."
   ]
  },
  {
   "attachments": {},
   "cell_type": "markdown",
   "metadata": {},
   "source": [
    "Set dataset root path"
   ]
  },
  {
   "cell_type": "code",
   "execution_count": 3,
   "metadata": {},
   "outputs": [],
   "source": [
    "fulldatasetpath = 'D:/VIDIMU'"
   ]
  },
  {
   "cell_type": "code",
   "execution_count": 4,
   "metadata": {},
   "outputs": [],
   "source": [
    "inpath = os.path.join(fulldatasetpath,'dataset','videoandimus')\n",
    "inpathcsv = os.path.join(fulldatasetpath,'analysis','videoandimusync')\n",
    "outpath = os.path.join(fulldatasetpath,'dataset','videoandimusync')\n",
    "if not os.path.exists(outpath):\n",
    "    os.makedirs(outpath)"
   ]
  },
  {
   "attachments": {},
   "cell_type": "markdown",
   "metadata": {},
   "source": [
    "Load changes neeeded"
   ]
  },
  {
   "cell_type": "code",
   "execution_count": 5,
   "metadata": {},
   "outputs": [
    {
     "data": {
      "text/html": [
       "<div>\n",
       "<style scoped>\n",
       "    .dataframe tbody tr th:only-of-type {\n",
       "        vertical-align: middle;\n",
       "    }\n",
       "\n",
       "    .dataframe tbody tr th {\n",
       "        vertical-align: top;\n",
       "    }\n",
       "\n",
       "    .dataframe thead th {\n",
       "        text-align: right;\n",
       "    }\n",
       "</style>\n",
       "<table border=\"1\" class=\"dataframe\">\n",
       "  <thead>\n",
       "    <tr style=\"text-align: right;\">\n",
       "      <th></th>\n",
       "      <th>Subject</th>\n",
       "      <th>Activity</th>\n",
       "      <th>Trial</th>\n",
       "      <th>File</th>\n",
       "      <th>Type</th>\n",
       "      <th>CutFrames</th>\n",
       "      <th>OrigRmse</th>\n",
       "      <th>TheoRmse</th>\n",
       "    </tr>\n",
       "  </thead>\n",
       "  <tbody>\n",
       "    <tr>\n",
       "      <th>0</th>\n",
       "      <td>S41</td>\n",
       "      <td>A01</td>\n",
       "      <td>T02</td>\n",
       "      <td>D:/VIDIMU\\dataset\\videoandimus\\S41\\S41_A01_T02...</td>\n",
       "      <td>mp4</td>\n",
       "      <td>4</td>\n",
       "      <td>12.386718</td>\n",
       "      <td>6.091099</td>\n",
       "    </tr>\n",
       "    <tr>\n",
       "      <th>1</th>\n",
       "      <td>S41</td>\n",
       "      <td>A01</td>\n",
       "      <td>T02</td>\n",
       "      <td>D:/VIDIMU\\dataset\\videoandimus\\S41\\S41_A01_T02...</td>\n",
       "      <td>csv</td>\n",
       "      <td>4</td>\n",
       "      <td>12.386718</td>\n",
       "      <td>6.091099</td>\n",
       "    </tr>\n",
       "    <tr>\n",
       "      <th>2</th>\n",
       "      <td>S42</td>\n",
       "      <td>A01</td>\n",
       "      <td>T01</td>\n",
       "      <td>D:/VIDIMU\\dataset\\videoandimus\\S42\\S42_A01_T01...</td>\n",
       "      <td>mp4</td>\n",
       "      <td>3</td>\n",
       "      <td>8.815782</td>\n",
       "      <td>2.952356</td>\n",
       "    </tr>\n",
       "    <tr>\n",
       "      <th>3</th>\n",
       "      <td>S42</td>\n",
       "      <td>A01</td>\n",
       "      <td>T01</td>\n",
       "      <td>D:/VIDIMU\\dataset\\videoandimus\\S42\\S42_A01_T01...</td>\n",
       "      <td>csv</td>\n",
       "      <td>3</td>\n",
       "      <td>8.815782</td>\n",
       "      <td>2.952356</td>\n",
       "    </tr>\n",
       "    <tr>\n",
       "      <th>4</th>\n",
       "      <td>S44</td>\n",
       "      <td>A01</td>\n",
       "      <td>T01</td>\n",
       "      <td>D:/VIDIMU\\dataset\\videoandimus\\S44\\S44_A01_T01...</td>\n",
       "      <td>raw</td>\n",
       "      <td>1</td>\n",
       "      <td>4.613521</td>\n",
       "      <td>3.228912</td>\n",
       "    </tr>\n",
       "  </tbody>\n",
       "</table>\n",
       "</div>"
      ],
      "text/plain": [
       "  Subject Activity Trial                                               File  \\\n",
       "0     S41      A01   T02  D:/VIDIMU\\dataset\\videoandimus\\S41\\S41_A01_T02...   \n",
       "1     S41      A01   T02  D:/VIDIMU\\dataset\\videoandimus\\S41\\S41_A01_T02...   \n",
       "2     S42      A01   T01  D:/VIDIMU\\dataset\\videoandimus\\S42\\S42_A01_T01...   \n",
       "3     S42      A01   T01  D:/VIDIMU\\dataset\\videoandimus\\S42\\S42_A01_T01...   \n",
       "4     S44      A01   T01  D:/VIDIMU\\dataset\\videoandimus\\S44\\S44_A01_T01...   \n",
       "\n",
       "  Type  CutFrames   OrigRmse  TheoRmse  \n",
       "0  mp4          4  12.386718  6.091099  \n",
       "1  csv          4  12.386718  6.091099  \n",
       "2  mp4          3   8.815782  2.952356  \n",
       "3  csv          3   8.815782  2.952356  \n",
       "4  raw          1   4.613521  3.228912  "
      ]
     },
     "execution_count": 5,
     "metadata": {},
     "output_type": "execute_result"
    }
   ],
   "source": [
    "csvlog='infoToSync.csv'\n",
    "csvlogfile = os.path.join(inpathcsv,csvlog)\n",
    "try:\n",
    "    dfsync = pd.read_csv(csvlogfile)\n",
    "except FileNotFoundError:\n",
    "    print(\"Can't find \",csvlogfile)\n",
    "\n",
    "dfsync.head()"
   ]
  },
  {
   "cell_type": "code",
   "execution_count": 6,
   "metadata": {},
   "outputs": [],
   "source": [
    "dfsync=dfsync.sort_values(by=['Subject','Activity'])"
   ]
  },
  {
   "attachments": {},
   "cell_type": "markdown",
   "metadata": {},
   "source": [
    "### Modify text files (.raw, .mot, .csv) --> folder videoandimussync"
   ]
  },
  {
   "cell_type": "code",
   "execution_count": 7,
   "metadata": {},
   "outputs": [],
   "source": [
    "subjects = [\"S40\",\"S41\",\"S42\",  \"S44\",  \"S46\",\"S47\",\"S48\",\"S49\",\n",
    "            \"S50\",\"S51\",\"S52\",\"S53\",\"S54\",\"S55\",\"S56\",\"S57\"]"
   ]
  },
  {
   "cell_type": "code",
   "execution_count": 8,
   "metadata": {},
   "outputs": [
    {
     "name": "stdout",
     "output_type": "stream",
     "text": [
      "Creating directory:  D:/VIDIMU\\dataset\\videoandimusync\\S40\n",
      "Creating directory:  D:/VIDIMU\\dataset\\videoandimusync\\S41\n",
      "Creating directory:  D:/VIDIMU\\dataset\\videoandimusync\\S42\n",
      "Creating directory:  D:/VIDIMU\\dataset\\videoandimusync\\S44\n",
      "Creating directory:  D:/VIDIMU\\dataset\\videoandimusync\\S46\n",
      "Creating directory:  D:/VIDIMU\\dataset\\videoandimusync\\S47\n",
      "Creating directory:  D:/VIDIMU\\dataset\\videoandimusync\\S48\n",
      "Creating directory:  D:/VIDIMU\\dataset\\videoandimusync\\S49\n",
      "Creating directory:  D:/VIDIMU\\dataset\\videoandimusync\\S50\n",
      "Creating directory:  D:/VIDIMU\\dataset\\videoandimusync\\S51\n",
      "Creating directory:  D:/VIDIMU\\dataset\\videoandimusync\\S52\n",
      "Creating directory:  D:/VIDIMU\\dataset\\videoandimusync\\S53\n",
      "Creating directory:  D:/VIDIMU\\dataset\\videoandimusync\\S54\n",
      "Creating directory:  D:/VIDIMU\\dataset\\videoandimusync\\S55\n",
      "Creating directory:  D:/VIDIMU\\dataset\\videoandimusync\\S56\n",
      "Creating directory:  D:/VIDIMU\\dataset\\videoandimusync\\S57\n"
     ]
    }
   ],
   "source": [
    "for index,row in dfsync.iterrows():\n",
    "    subject = row['Subject']\n",
    "    if subject not in subjects:\n",
    "        print('Skip subject')\n",
    "        continue\n",
    "    file = row['File']\n",
    "    type = row['Type']\n",
    "    frames = row['CutFrames']\n",
    "    outfile=file.replace(inpath,outpath)\n",
    "    if type == 'mp4':\n",
    "        #print(\"Skip video\")\n",
    "        continue\n",
    "    if not os.path.exists(os.path.dirname(outfile)):\n",
    "        print(\"Creating directory: \", os.path.dirname(outfile))\n",
    "        os.mkdir(os.path.dirname(outfile))\n",
    "    if type == 'raw':\n",
    "        lines_per_frame = 5*(50/30) #5 sensors per frame and 50 Hz in IMUs vs 30 Hz in video\n",
    "        row_start = 2\n",
    "        fileutil.remove_insidelines_file(file,row_start,int(frames*lines_per_frame),outfile)\n",
    "    elif type == 'mot':\n",
    "        lines_per_frame = 50/30 #5 sensors per frame and 50 Hz in IMUs vs 30 Hz in video\n",
    "        row_start = 9\n",
    "        fileutil.remove_insidelines_file(file,row_start,int(frames*lines_per_frame),outfile)\n",
    "    elif type == 'csv':\n",
    "        lines_per_frame = 1 #video\n",
    "        row_start = 2\n",
    "        fileutil.remove_insidelines_file(file,row_start,frames*lines_per_frame,outfile)\n",
    "    else:\n",
    "        continue\n",
    "\n"
   ]
  },
  {
   "cell_type": "code",
   "execution_count": null,
   "metadata": {},
   "outputs": [],
   "source": []
  }
 ],
 "metadata": {
  "kernelspec": {
   "display_name": "Python 3.8.5 64-bit",
   "language": "python",
   "name": "python3"
  },
  "language_info": {
   "codemirror_mode": {
    "name": "ipython",
    "version": 3
   },
   "file_extension": ".py",
   "mimetype": "text/x-python",
   "name": "python",
   "nbconvert_exporter": "python",
   "pygments_lexer": "ipython3",
   "version": "3.8.5"
  },
  "orig_nbformat": 4,
  "vscode": {
   "interpreter": {
    "hash": "362938921e6a6f70681e94dc428cff52a3d9f379f3c37b40545fe52838ece3cf"
   }
  }
 },
 "nbformat": 4,
 "nbformat_minor": 2
}
