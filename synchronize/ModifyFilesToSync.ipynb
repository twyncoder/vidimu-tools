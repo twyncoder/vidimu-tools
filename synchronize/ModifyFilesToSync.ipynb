{
 "cells": [
  {
   "cell_type": "code",
   "execution_count": null,
   "metadata": {},
   "outputs": [],
   "source": [
    "import os\n",
    "import sys\n",
    "import pandas as pd\n",
    "sys.path.append(os.path.dirname(os.getcwd())) #Add project dir to path\n",
    "from utils.syncUtilities import plotFramesShiftToSyncrhonizeAllSubjectsOneActivity,getMainJointFromMotAndMainBonesFromCSV, getSamplesToSynchronize, SynchronizeAndCutSignals"
   ]
  },
  {
   "cell_type": "code",
   "execution_count": null,
   "metadata": {},
   "outputs": [],
   "source": [
    "import utils.fileProcessing as fileutil "
   ]
  },
  {
   "attachments": {},
   "cell_type": "markdown",
   "metadata": {},
   "source": [
    "## Modifies VIDIMU text dataset files for estimated ideal synchronization according to `infoToSync.csv`."
   ]
  },
  {
   "attachments": {},
   "cell_type": "markdown",
   "metadata": {},
   "source": [
    "Set dataset root path"
   ]
  },
  {
   "cell_type": "code",
   "execution_count": null,
   "metadata": {},
   "outputs": [],
   "source": [
    "fulldatasetpath = 'D:/VIDIMU'"
   ]
  },
  {
   "cell_type": "code",
   "execution_count": null,
   "metadata": {},
   "outputs": [],
   "source": [
    "inpath = os.path.join(fulldatasetpath,'dataset','videoandimus')\n",
    "inpathcsv = os.path.join(fulldatasetpath,'analysis','videoandimusync')\n",
    "outpath = os.path.join(fulldatasetpath,'dataset','videoandimusync')\n",
    "if not os.path.exists(outpath):\n",
    "    os.makedirs(outpath)"
   ]
  },
  {
   "attachments": {},
   "cell_type": "markdown",
   "metadata": {},
   "source": [
    "Load changes neeeded"
   ]
  },
  {
   "cell_type": "code",
   "execution_count": null,
   "metadata": {},
   "outputs": [],
   "source": [
    "csvlog='infoToSync.csv'\n",
    "csvlogfile = os.path.join(inpathcsv,csvlog)\n",
    "try:\n",
    "    dfsync = pd.read_csv(csvlogfile)\n",
    "except FileNotFoundError:\n",
    "    print(\"Can't find \",csvlogfile)\n",
    "\n",
    "dfsync.head()"
   ]
  },
  {
   "cell_type": "code",
   "execution_count": null,
   "metadata": {},
   "outputs": [],
   "source": [
    "dfsync=dfsync.sort_values(by=['Subject','Activity'])"
   ]
  },
  {
   "attachments": {},
   "cell_type": "markdown",
   "metadata": {},
   "source": [
    "### Modify text files (.raw, .mot, .csv) --> folder videoandimussync"
   ]
  },
  {
   "cell_type": "code",
   "execution_count": null,
   "metadata": {},
   "outputs": [],
   "source": [
    "subjects = [\"S40\",\"S41\",\"S42\",  \"S44\",  \"S46\",\"S47\",\"S48\",\"S49\",\n",
    "            \"S50\",\"S51\",\"S52\",\"S53\",\"S54\",\"S55\",\"S56\",\"S57\"]"
   ]
  },
  {
   "cell_type": "code",
   "execution_count": null,
   "metadata": {},
   "outputs": [],
   "source": [
    "for index,row in dfsync.iterrows():\n",
    "    subject = row['Subject']\n",
    "    if subject not in subjects:\n",
    "        print('Skip subject')\n",
    "        continue\n",
    "    file = row['File']\n",
    "    type = row['Type']\n",
    "    frames = row['CutFrames']\n",
    "    outfile=file.replace(inpath,outpath)\n",
    "    if type == 'mp4':\n",
    "        #print(\"Skip video\")\n",
    "        continue\n",
    "    if not os.path.exists(os.path.dirname(outfile)):\n",
    "        print(\"Creating directory: \", os.path.dirname(outfile))\n",
    "        os.mkdir(os.path.dirname(outfile))\n",
    "    if type == 'raw':\n",
    "        lines_per_frame = 5*(50/30) #5 sensors per frame and 50 Hz in IMUs vs 30 Hz in video\n",
    "        row_start = 2\n",
    "        fileutil.remove_insidelines_file(file,row_start,int(frames*lines_per_frame),outfile)\n",
    "    elif type == 'mot':\n",
    "        lines_per_frame = 50/30 #5 sensors per frame and 50 Hz in IMUs vs 30 Hz in video\n",
    "        row_start = 9\n",
    "        fileutil.remove_insidelines_file(file,row_start,int(frames*lines_per_frame),outfile)\n",
    "    elif type == 'csv':\n",
    "        lines_per_frame = 1 #video\n",
    "        row_start = 2\n",
    "        fileutil.remove_insidelines_file(file,row_start,frames*lines_per_frame,outfile)\n",
    "    else:\n",
    "        continue\n",
    "\n"
   ]
  }
 ],
 "metadata": {
  "kernelspec": {
   "display_name": "Python 3.8.5 64-bit",
   "language": "python",
   "name": "python3"
  },
  "language_info": {
   "codemirror_mode": {
    "name": "ipython",
    "version": 3
   },
   "file_extension": ".py",
   "mimetype": "text/x-python",
   "name": "python",
   "nbconvert_exporter": "python",
   "pygments_lexer": "ipython3",
   "version": "3.8.5"
  },
  "orig_nbformat": 4,
  "vscode": {
   "interpreter": {
    "hash": "362938921e6a6f70681e94dc428cff52a3d9f379f3c37b40545fe52838ece3cf"
   }
  }
 },
 "nbformat": 4,
 "nbformat_minor": 2
}
