{
 "cells": [
  {
   "cell_type": "code",
   "execution_count": null,
   "metadata": {},
   "outputs": [],
   "source": [
    "import os\n",
    "import shutil\n",
    "from contextlib import redirect_stdout"
   ]
  },
  {
   "attachments": {},
   "cell_type": "markdown",
   "metadata": {},
   "source": [
    "## Guides through the steps needed to process _.mp4_ video files in the VIDIMU dataset with [NVIDIA Maxine SDK](https://developer.nvidia.com/maxine) BodyTrack."
   ]
  },
  {
   "attachments": {},
   "cell_type": "markdown",
   "metadata": {},
   "source": [
    "### 1. Print .mp4 filenames "
   ]
  },
  {
   "cell_type": "code",
   "execution_count": null,
   "metadata": {},
   "outputs": [],
   "source": [
    "subjects = [\"S01\",\"S02\",  \"S05\",\"S06\",\"S07\",\"S08\",\"S09\",\"S10\",\n",
    "            \"S11\",\"S12\",\"S13\",\"S14\",\"S15\",\"S16\",\"S17\",\"S18\",\"S19\",\"S20\",\n",
    "            \"S21\",\"S22\",\"S23\",\"S24\",\"S25\",\"S26\",\"S27\",\"S28\",\"S29\",\"S30\",\n",
    "            \"S31\",\"S32\",\"S33\",\"S34\",\"S35\",\"S36\",\"S37\",\"S38\",\"S39\",\"S40\",\n",
    "            \"S41\",\"S42\",  \"S44\",  \"S46\",\"S47\",\"S48\",\"S49\",\"S50\",\n",
    "            \"S51\",\"S52\",\"S53\",\"S54\",\"S55\",\"S56\",\"S57\"]"
   ]
  },
  {
   "cell_type": "code",
   "execution_count": null,
   "metadata": {},
   "outputs": [],
   "source": [
    "fulldatasetpathin = 'D:/VIDIMU'\n",
    "fulldatasetpathout = 'D:/VIDIMU_UNPUBLISHED' #UNPUBLISHED OUTPUT OF BODYTRACK ARE BBOX OUTPUT VIDEOS"
   ]
  },
  {
   "cell_type": "code",
   "execution_count": null,
   "metadata": {},
   "outputs": [],
   "source": [
    "inpath = os.path.join(fulldatasetpathin,'videosfullsize','videosoriginal')"
   ]
  },
  {
   "cell_type": "code",
   "execution_count": null,
   "metadata": {},
   "outputs": [],
   "source": [
    "with open(os.path.join(inpath,'toBodyTrack.txt'),'w') as f:\n",
    "    with redirect_stdout(f):\n",
    "        for folder in os.listdir(inpath):\n",
    "            if folder in subjects:\n",
    "                for file in os.listdir(os.path.join(inpath,folder)):\n",
    "                    filename,extension = os.path.splitext(file)\n",
    "                    if extension=='.mp4':\n",
    "                        fullinname=os.path.join(inpath,folder,file)\n",
    "                    else:\n",
    "                        fullinname = 'Skip'\n",
    "                        continue\n",
    "                    print(fullinname)"
   ]
  },
  {
   "attachments": {},
   "cell_type": "markdown",
   "metadata": {},
   "source": [
    "### 2. Execute BodyTrack"
   ]
  },
  {
   "attachments": {},
   "cell_type": "markdown",
   "metadata": {},
   "source": [
    "- Copy `toBodyTrack.txt` to the path where BodyTrack.exe is located\n",
    "- Execute the following code, within a .bat file (Windows)"
   ]
  },
  {
   "attachments": {},
   "cell_type": "markdown",
   "metadata": {},
   "source": [
    "```bash\n",
    "SETLOCAL\n",
    "SET PATH=%PATH%;..\\..\\samples\\external\\opencv\\bin;..\\..\\bin;\n",
    "for /f \"delims=\" %%f in (toBodyTrack.txt) do (\n",
    "BodyTrack.exe --enable_people_tracking=0 --max_targets_tracked=1 --capture_outputs=true --model_path=\"C:\\Program Files\\NVIDIA Corporation\\NVIDIA AR SDK\\models\" --offline_mode=true --mode=1 --use_cuda_graph=true --verbose=true --app_mode=1 --temporal=true --cam_res=640x480 --debug=false --in_file=\"%%f\">\"%%f\".out \n",
    ")\n",
    "```"
   ]
  },
  {
   "attachments": {},
   "cell_type": "markdown",
   "metadata": {},
   "source": [
    "### 3. Move files"
   ]
  },
  {
   "cell_type": "code",
   "execution_count": null,
   "metadata": {},
   "outputs": [],
   "source": [
    "outpath_pose_out = os.path.join(fulldatasetpathin,'videosfullsize','videosbodytrack')\n",
    "outpath_bbox = os.path.join(fulldatasetpathout,'videosfullsize','videosbodytrack')  #UNPUBLISHED"
   ]
  },
  {
   "cell_type": "code",
   "execution_count": null,
   "metadata": {},
   "outputs": [],
   "source": [
    "for folder in os.listdir(inpath):\n",
    "    if folder in subjects:\n",
    "        for file in os.listdir(os.path.join(inpath,folder)):\n",
    "            filename,extension = os.path.splitext(file)\n",
    "            if extension=='.mp4':\n",
    "                if '_bbox' in filename:\n",
    "                    fullinname=os.path.join(inpath,folder,file)\n",
    "                    fulloutfolder=os.path.join(outpath_bbox,folder)\n",
    "                    fulloutname=os.path.join(fulloutfolder,file)\n",
    "                    print(fullinname,'->',fulloutname)\n",
    "                elif '_pose' in filename and '_bbox' not in filename:\n",
    "                    fullinname=os.path.join(inpath,folder,file)\n",
    "                    fulloutfolder=os.path.join(outpath_pose_out,folder)\n",
    "                    fulloutname=os.path.join(fulloutfolder,file)\n",
    "                else:\n",
    "                    continue\n",
    "            elif extension=='.out':\n",
    "                fullinname=os.path.join(inpath,folder,file)\n",
    "                fulloutfolder=os.path.join(outpath_pose_out,folder)\n",
    "                fulloutname=os.path.join(fulloutfolder,file)\n",
    "            else:\n",
    "                continue\n",
    "            print(fullinname,'->',fulloutname)\n",
    "            if not os.path.exists(fulloutfolder):\n",
    "                os.makedirs(fulloutfolder)\n",
    "            shutil.move(fullinname,fulloutname)"
   ]
  }
 ],
 "metadata": {
  "kernelspec": {
   "display_name": "Python 3.8.5 64-bit",
   "language": "python",
   "name": "python3"
  },
  "language_info": {
   "codemirror_mode": {
    "name": "ipython",
    "version": 3
   },
   "file_extension": ".py",
   "mimetype": "text/x-python",
   "name": "python",
   "nbconvert_exporter": "python",
   "pygments_lexer": "ipython3",
   "version": "3.8.5"
  },
  "orig_nbformat": 4,
  "vscode": {
   "interpreter": {
    "hash": "362938921e6a6f70681e94dc428cff52a3d9f379f3c37b40545fe52838ece3cf"
   }
  }
 },
 "nbformat": 4,
 "nbformat_minor": 2
}
