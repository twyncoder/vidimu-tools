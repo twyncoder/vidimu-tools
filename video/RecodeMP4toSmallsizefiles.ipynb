{
 "cells": [
  {
   "cell_type": "code",
   "execution_count": null,
   "metadata": {},
   "outputs": [],
   "source": [
    "import os\n",
    "import sys\n",
    "sys.path.append(os.path.dirname(os.getcwd())) #Add project dir to path\n",
    "from utils.plotUtilities import plotVideoPoseAllSubjectsOneActivity"
   ]
  },
  {
   "cell_type": "code",
   "execution_count": null,
   "metadata": {},
   "outputs": [],
   "source": [
    "import os\n",
    "import shutil\n",
    "import ffmpy "
   ]
  },
  {
   "attachments": {},
   "cell_type": "markdown",
   "metadata": {},
   "source": [
    "## Recodes original acquired and [NVIDIA Maxine SDK](https://developer.nvidia.com/maxine) BodyTrack generated _.mp4_ video files to significantly reduce their size."
   ]
  },
  {
   "attachments": {},
   "cell_type": "markdown",
   "metadata": {},
   "source": [
    "Set dataset root"
   ]
  },
  {
   "cell_type": "code",
   "execution_count": null,
   "metadata": {},
   "outputs": [],
   "source": [
    "fulldatasetpath = 'D:/VIDIMU'"
   ]
  },
  {
   "attachments": {},
   "cell_type": "markdown",
   "metadata": {},
   "source": [
    "Select subjects"
   ]
  },
  {
   "cell_type": "code",
   "execution_count": null,
   "metadata": {},
   "outputs": [],
   "source": [
    "subjects = [\"S01\",\"S02\",  \"S05\",\"S06\",\"S07\",\"S08\",\"S09\",\"S10\",\n",
    "            \"S11\",\"S12\",\"S13\",\"S14\",\"S15\",\"S16\",\"S17\",\"S18\",\"S19\",\"S20\",\n",
    "            \"S21\",\"S22\",\"S23\",\"S24\",\"S25\",\"S26\",\"S27\",\"S28\",\"S29\",\"S30\",\n",
    "            \"S31\",\"S32\",\"S33\",\"S34\",\"S35\",\"S36\",\"S37\",\"S38\",\"S39\",\"S40\",\n",
    "            \"S41\",\"S42\",  \"S44\",  \"S46\",\"S47\",\"S48\",\"S49\",\"S50\",\n",
    "            \"S51\",\"S52\",\"S53\",\"S54\",\"S55\",\"S56\",\"S57\"]"
   ]
  },
  {
   "attachments": {},
   "cell_type": "markdown",
   "metadata": {},
   "source": [
    "### 1. Recode original acquired video files"
   ]
  },
  {
   "cell_type": "code",
   "execution_count": null,
   "metadata": {},
   "outputs": [],
   "source": [
    "inpath = os.path.join(fulldatasetpath,'videosfullsize','videosoriginal')\n",
    "outpath = os.path.join(fulldatasetpath,'videosmallsize','videosoriginal')\n",
    "if not os.path.exists(outpath):\n",
    "    os.makedirs(outpath)"
   ]
  },
  {
   "cell_type": "code",
   "execution_count": null,
   "metadata": {},
   "outputs": [],
   "source": [
    "for subject in os.listdir(inpath):\n",
    "    if subject not in subjects:\n",
    "        print(\"Skipping subject \", subject)\n",
    "        continue\n",
    "    insubfolder = os.path.join(inpath,subject)\n",
    "    outsubfolder = os.path.join(outpath,subject)\n",
    "    if not os.path.exists(outsubfolder):\n",
    "        os.makedirs(outsubfolder)\n",
    "    for infile in os.listdir(insubfolder):\n",
    "        fileinpath=os.path.join(insubfolder,infile)\n",
    "        fileoutpath=os.path.join(outsubfolder,infile)\n",
    "        filename,extension = os.path.splitext(infile)\n",
    "        if extension == '.mp4':\n",
    "            #Reduce video size\n",
    "            print(\"Processing: \" + infile)\n",
    "            ssoption = '-ss 0 '\n",
    "            froption = '-c:v libx264 -profile:v high -level:v 4.0'\n",
    "            ff = ffmpy.FFmpeg(\n",
    "                global_options={('-y')}, #REWRITE IF EXISTS\n",
    "                inputs={fileinpath:ssoption},\n",
    "                outputs={fileoutpath:froption} \n",
    "            )\n",
    "            ff.run()"
   ]
  },
  {
   "attachments": {},
   "cell_type": "markdown",
   "metadata": {},
   "source": [
    "### 2. Recode _BodyTrack_ output video files "
   ]
  },
  {
   "cell_type": "code",
   "execution_count": null,
   "metadata": {},
   "outputs": [],
   "source": [
    "inpath = os.path.join(fulldatasetpath,'videosfullsize','videosbodytrack')\n",
    "outpath = os.path.join(fulldatasetpath,'videosmallsize','videosbodytrack')\n",
    "if not os.path.exists(outpath):\n",
    "    os.makedirs(outpath)"
   ]
  },
  {
   "cell_type": "code",
   "execution_count": null,
   "metadata": {},
   "outputs": [],
   "source": [
    "for subject in os.listdir(inpath):\n",
    "    if subject not in subjects:\n",
    "        print(\"Skipping subject \", subject)\n",
    "        continue\n",
    "    insubfolder = os.path.join(inpath,subject)\n",
    "    outsubfolder = os.path.join(outpath,subject)\n",
    "    if not os.path.exists(outsubfolder):\n",
    "        os.makedirs(outsubfolder)\n",
    "    for infile in os.listdir(insubfolder):\n",
    "        fileinpath=os.path.join(insubfolder,infile)\n",
    "        fileoutpath=os.path.join(outsubfolder,infile)\n",
    "        filename,extension = os.path.splitext(infile)\n",
    "        if extension == '.mp4':\n",
    "            #Reduce video size\n",
    "            ssoption = '-ss 0 '\n",
    "            froption = '-c:v libx264 -profile:v high -level:v 4.0'\n",
    "            ff = ffmpy.FFmpeg(\n",
    "                global_options={('-y')}, #REWRITE IF EXISTS\n",
    "                inputs={fileinpath:ssoption},\n",
    "                outputs={fileoutpath:froption} \n",
    "            )\n",
    "            ff.run()"
   ]
  }
 ],
 "metadata": {
  "kernelspec": {
   "display_name": "Python 3.8.5 64-bit",
   "language": "python",
   "name": "python3"
  },
  "language_info": {
   "codemirror_mode": {
    "name": "ipython",
    "version": 3
   },
   "file_extension": ".py",
   "mimetype": "text/x-python",
   "name": "python",
   "nbconvert_exporter": "python",
   "pygments_lexer": "ipython3",
   "version": "3.8.5"
  },
  "orig_nbformat": 4,
  "vscode": {
   "interpreter": {
    "hash": "362938921e6a6f70681e94dc428cff52a3d9f379f3c37b40545fe52838ece3cf"
   }
  }
 },
 "nbformat": 4,
 "nbformat_minor": 2
}
