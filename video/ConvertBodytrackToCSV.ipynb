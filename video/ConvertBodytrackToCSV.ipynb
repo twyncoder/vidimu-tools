{
 "cells": [
  {
   "cell_type": "code",
   "execution_count": null,
   "metadata": {},
   "outputs": [],
   "source": [
    "import os\n",
    "import sys\n",
    "sys.path.append(os.path.dirname(os.getcwd())) #Add project dir to path\n",
    "from utils.fileProcessing import getJoints3DFromFile, convertJoints3DToDataframe"
   ]
  },
  {
   "attachments": {},
   "cell_type": "markdown",
   "metadata": {},
   "source": [
    "## Converts the plain text output of [NVIDIA Maxine SDK](https://developer.nvidia.com/maxine) BodyTrack stored as _.out_ files in the VIDIMU dataset, into comma separated values _.csv_ files."
   ]
  },
  {
   "attachments": {},
   "cell_type": "markdown",
   "metadata": {},
   "source": [
    "Set dataset root path"
   ]
  },
  {
   "cell_type": "code",
   "execution_count": null,
   "metadata": {},
   "outputs": [],
   "source": [
    "fulldatasetpath = 'D:/VIDIMU'"
   ]
  },
  {
   "attachments": {},
   "cell_type": "markdown",
   "metadata": {},
   "source": [
    "### 1. From 'videosfullsize/videosbodytrack' to 'dataset/videonly'"
   ]
  },
  {
   "attachments": {},
   "cell_type": "markdown",
   "metadata": {},
   "source": [
    "Filter by subject"
   ]
  },
  {
   "cell_type": "code",
   "execution_count": null,
   "metadata": {},
   "outputs": [],
   "source": [
    "subjects = [\"S01\",\"S02\",  \"S05\",\"S06\",\"S07\",\"S08\",\"S09\",\"S10\",\n",
    "            \"S11\",\"S12\",\"S13\",\"S14\",\"S15\",\"S16\",\"S17\",\"S18\",\"S19\",\"S20\",\n",
    "            \"S21\",\"S22\",\"S23\",\"S24\",\"S25\",\"S26\",\"S27\",\"S28\",\"S29\",\"S30\",\n",
    "            \"S31\",\"S32\",\"S33\",\"S34\",\"S35\",\"S36\",\"S37\",\"S38\",\"S39\"]"
   ]
  },
  {
   "cell_type": "code",
   "execution_count": null,
   "metadata": {},
   "outputs": [],
   "source": [
    "inpath = os.path.join(fulldatasetpath,'videosfullsize','videosbodytrack')\n",
    "outpath = os.path.join(fulldatasetpath,'dataset','videonly')\n",
    "if not os.path.exists(outpath):\n",
    "    os.makedirs(outpath)"
   ]
  },
  {
   "attachments": {},
   "cell_type": "markdown",
   "metadata": {},
   "source": [
    "Select joints"
   ]
  },
  {
   "cell_type": "code",
   "execution_count": null,
   "metadata": {},
   "outputs": [],
   "source": [
    "jointlist3D=[\"pelvis\",\"left_hip\",\"right_hip\",\"torso\",\"left_knee\",\"right_knee\",\"neck\",\"left_ankle\",\"right_ankle\",\"left_big_toe\",\"right_big_toe\",\n",
    "             \"left_small_toe\",\"right_small_toe\",\"left_heel\",\"right_heel\",\"nose\",\"left_eye\",\"right_eye\",\"left_ear\",\"right_ear\",\"left_shoulder\",\n",
    "             \"right_shoulder\",\"left_elbow\",\"right_elbow\",\"left_wrist\",\"right_wrist\",\"left_pinky_knuckle\",\"right_pinky_knuckle\",\"left_middle_tip\",\n",
    "             \"right_middle_tip\",\"left_index_knuckle\",\"right_index_knuckle\",\"left_thumb_tip\",\" right_thumb_tip\"]"
   ]
  },
  {
   "cell_type": "code",
   "execution_count": null,
   "metadata": {},
   "outputs": [],
   "source": [
    "for subject in os.listdir(inpath):\n",
    "    if subject in subjects:\n",
    "        for file in os.listdir(os.path.join(inpath,subject)):\n",
    "            filename,extension = os.path.splitext(file)\n",
    "            if extension == '.out':\n",
    "                fileinfullpath=os.path.join(inpath,subject,file)\n",
    "                print(\"Processing: \",fileinfullpath)\n",
    "                joints,nframes = getJoints3DFromFile(fileinfullpath,jointlist3D,skiplines=2)\n",
    "                df = convertJoints3DToDataframe(joints,jointlist3D)\n",
    "                filenamecsv=filename.replace('.mp4','.csv')\n",
    "\n",
    "                fileoutfolder = os.path.join(outpath,subject)\n",
    "                if not os.path.exists(fileoutfolder):\n",
    "                    os.mkdir(fileoutfolder)\n",
    "                fileoutfullpath=os.path.join(fileoutfolder,filenamecsv)\n",
    "                df.to_csv(fileoutfullpath,index=False)    \n",
    "                print(\"Written: \",fileoutfullpath)"
   ]
  },
  {
   "attachments": {},
   "cell_type": "markdown",
   "metadata": {},
   "source": [
    "### 2. From 'videosfullsize/videosbodytrack' to 'dataset/videoandimus'"
   ]
  },
  {
   "attachments": {},
   "cell_type": "markdown",
   "metadata": {},
   "source": [
    "Filter by subject"
   ]
  },
  {
   "cell_type": "code",
   "execution_count": null,
   "metadata": {},
   "outputs": [],
   "source": [
    "subjects = [\"S40\",\"S41\",\"S42\",  \"S44\",  \"S46\",\"S47\",\"S48\",\"S49\",\n",
    "            \"S50\",\"S51\",\"S52\",\"S53\",\"S54\",\"S55\",\"S56\",\"S57\"]"
   ]
  },
  {
   "cell_type": "code",
   "execution_count": null,
   "metadata": {},
   "outputs": [],
   "source": [
    "inpath = os.path.join(fulldatasetpath,'videosfullsize','videosbodytrack')\n",
    "outpath = os.path.join(fulldatasetpath,'dataset','videoandimus')\n",
    "if not os.path.exists(outpath):\n",
    "    os.makedirs(outpath)"
   ]
  },
  {
   "cell_type": "markdown",
   "metadata": {},
   "source": [
    "Select joints"
   ]
  },
  {
   "cell_type": "code",
   "execution_count": null,
   "metadata": {},
   "outputs": [],
   "source": [
    "jointlist3D=[\"pelvis\",\"left_hip\",\"right_hip\",\"torso\",\"left_knee\",\"right_knee\",\"neck\",\"left_ankle\",\"right_ankle\",\"left_big_toe\",\"right_big_toe\",\n",
    "             \"left_small_toe\",\"right_small_toe\",\"left_heel\",\"right_heel\",\"nose\",\"left_eye\",\"right_eye\",\"left_ear\",\"right_ear\",\"left_shoulder\",\n",
    "             \"right_shoulder\",\"left_elbow\",\"right_elbow\",\"left_wrist\",\"right_wrist\",\"left_pinky_knuckle\",\"right_pinky_knuckle\",\"left_middle_tip\",\n",
    "             \"right_middle_tip\",\"left_index_knuckle\",\"right_index_knuckle\",\"left_thumb_tip\",\" right_thumb_tip\"]"
   ]
  },
  {
   "cell_type": "code",
   "execution_count": null,
   "metadata": {},
   "outputs": [],
   "source": [
    "for subject in os.listdir(inpath):\n",
    "    if subject in subjects:\n",
    "        for file in os.listdir(os.path.join(inpath,subject)):\n",
    "            filename,extension = os.path.splitext(file)\n",
    "            if extension == '.out':\n",
    "                fileinfullpath=os.path.join(inpath,subject,file)\n",
    "                print(\"Processing: \",fileinfullpath)\n",
    "                joints,nframes = getJoints3DFromFile(fileinfullpath,jointlist3D,skiplines=2)\n",
    "                df = convertJoints3DToDataframe(joints,jointlist3D)\n",
    "                filenamecsv=filename.replace('.mp4','.csv')\n",
    "\n",
    "                fileoutfolder = os.path.join(outpath,subject)\n",
    "                if not os.path.exists(fileoutfolder):\n",
    "                    os.mkdir(fileoutfolder)\n",
    "                fileoutfullpath=os.path.join(fileoutfolder,filenamecsv)\n",
    "                df.to_csv(fileoutfullpath,index=False)    \n",
    "                print(\"Written: \",fileoutfullpath)"
   ]
  },
  {
   "cell_type": "code",
   "execution_count": null,
   "metadata": {},
   "outputs": [],
   "source": []
  }
 ],
 "metadata": {
  "kernelspec": {
   "display_name": "Python 3.8.5 64-bit",
   "language": "python",
   "name": "python3"
  },
  "language_info": {
   "codemirror_mode": {
    "name": "ipython",
    "version": 3
   },
   "file_extension": ".py",
   "mimetype": "text/x-python",
   "name": "python",
   "nbconvert_exporter": "python",
   "pygments_lexer": "ipython3",
   "version": "3.8.5"
  },
  "orig_nbformat": 4,
  "vscode": {
   "interpreter": {
    "hash": "362938921e6a6f70681e94dc428cff52a3d9f379f3c37b40545fe52838ece3cf"
   }
  }
 },
 "nbformat": 4,
 "nbformat_minor": 2
}
