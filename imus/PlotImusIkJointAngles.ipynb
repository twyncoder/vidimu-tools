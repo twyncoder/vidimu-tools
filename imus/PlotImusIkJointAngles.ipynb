{
 "cells": [
  {
   "cell_type": "code",
   "execution_count": null,
   "metadata": {},
   "outputs": [],
   "source": [
    "import os\n",
    "import sys\n",
    "sys.path.append(os.path.dirname(os.getcwd())) #Add project dir to path\n",
    "from utils.plotUtilities import plotMotJointAnglesPerActivity"
   ]
  },
  {
   "attachments": {},
   "cell_type": "markdown",
   "metadata": {},
   "source": [
    "## Generates _.svg_ and _.pdf_ plots of the joint angles estimated through Inverse Kinematics in [OpenSim](https://opensim.stanford.edu) and stored as _.mot_ files in the VIDIMU dataset."
   ]
  },
  {
   "attachments": {},
   "cell_type": "markdown",
   "metadata": {},
   "source": [
    "Set dataset root"
   ]
  },
  {
   "cell_type": "code",
   "execution_count": null,
   "metadata": {},
   "outputs": [],
   "source": [
    "fulldatasetpath = 'D:/VIDIMU'"
   ]
  },
  {
   "cell_type": "code",
   "execution_count": null,
   "metadata": {},
   "outputs": [],
   "source": [
    "inpath = os.path.join(fulldatasetpath,'dataset','videoandimus')\n",
    "outpath = os.path.join(fulldatasetpath,'analysis','videoandimus','iangles')"
   ]
  },
  {
   "attachments": {},
   "cell_type": "markdown",
   "metadata": {},
   "source": [
    "Select activities"
   ]
  },
  {
   "cell_type": "code",
   "execution_count": null,
   "metadata": {},
   "outputs": [],
   "source": [
    "lower_activities = [\"A01\",\"A02\",\"A03\",\"A04\"]\n",
    "upper_activities = [\"A05\",\"A06\",\"A07\",\"A08\",\"A09\",\"A10\",\"A11\",\"A12\",\"A13\"]\n",
    "dataset_activities = lower_activities + upper_activities\n",
    "activities_legend = [\"walk_forward\", \"walk_backward\", \"walk_along\",\"sit_to_stand\",\n",
    "\"move_right_arm\",\"move_left_arm\",\"drink_right_arm\",\"drink_left_arm\", \"assemble_both_arms\",\"throw_both_arms\",\n",
    "\"reachup_right_arm\",\"reachup_left_arm\",\"tear_both_arms\"]"
   ]
  },
  {
   "attachments": {},
   "cell_type": "markdown",
   "metadata": {},
   "source": [
    "### 1. From 'dataset/videandimus' to 'analysis/videoandimus/iangles'"
   ]
  },
  {
   "cell_type": "code",
   "execution_count": null,
   "metadata": {},
   "outputs": [],
   "source": [
    "subjects = [\"S40\",\"S41\",\"S42\",  \"S44\",  \"S46\",\"S47\",\"S48\",\"S49\",\"S50\",\n",
    "            \"S51\",\"S52\",\"S53\",\"S54\",\"S55\",\"S56\",\"S57\"]"
   ]
  },
  {
   "cell_type": "code",
   "execution_count": null,
   "metadata": {},
   "outputs": [],
   "source": [
    "#SELECT ONLY THE MOST REPRESENTATIVE ONES TO DETECT ACQUISITION ERRORS\n",
    "lowerbody_motsignals=['pelvis_tilt','pelvis_list','pelvis_rotation',\n",
    "    #'pelvis_tx','pelvis_ty','pelvis_tz',\n",
    "    'hip_flexion_r','hip_adduction_r',\n",
    "    'hip_rotation_r',\n",
    "    'knee_angle_r',\t#'knee_angle_r_beta',\t\n",
    "    #'ankle_angle_r',\t'subtalar_angle_r',\t'mtp_angle_r',\t\n",
    "    'hip_flexion_l','hip_adduction_l',\t\n",
    "    'hip_rotation_l',\n",
    "    'knee_angle_l',#'knee_angle_l_beta',\t\n",
    "    #'ankle_angle_l',\t'subtalar_angle_l',\tmtp_angle_l',\t\n",
    "    #'lumbar_extension',\t'lumbar_bending',\t'lumbar_rotation',\\\n",
    "    #'arm_flex_r',\t'arm_add_r',\t'arm_rot_r'#,\telbow_flex_r',\t'pro_sup_r',\t'wrist_flex_r',\t'wrist_dev_r',\t'arm_flex_l',\t'arm_add_l',\t'arm_rot_l',\\\n",
    "    #'elbow_flex_l',\t'pro_sup_l',\twrist_flex_l',\twrist_dev_l'\n",
    "    ]\n",
    "upperbody_motsignals=[#'pelvis_tilt','pelvis_list','pelvis_rotation',\n",
    "    #'pelvis_tx','pelvis_ty','pelvis_tz',\n",
    "    #'hip_flexion_r','hip_adduction_r','hip_rotation_r',\n",
    "    #'knee_angle_r','','',#'knee_angle_r_beta',\t\n",
    "    #'ankle_angle_r','subtalar_angle_r','mtp_angle_r',\t\n",
    "    #'hip_flexion_l','hip_adduction_l','hip_rotation_l',\n",
    "    #'knee_angle_l','','',#\t'knee_angle_l_beta',\t\n",
    "    #'ankle_angle_l','subtalar_angle_l','mtp_angle_l',\t\n",
    "    'lumbar_extension',\t'lumbar_bending','lumbar_rotation',\\\n",
    "    'arm_flex_r','arm_add_r','arm_rot_r',\n",
    "    'elbow_flex_r','pro_sup_r',\n",
    "    #'wrist_flex_r',\t'wrist_dev_r','',\n",
    "    'arm_flex_l',#'arm_add_l','arm_rot_l',\n",
    "    'elbow_flex_l','pro_sup_l',\n",
    "    #'wrist_flex_l',\t'wrist_dev_l',''\n",
    "    ]"
   ]
  },
  {
   "cell_type": "code",
   "execution_count": null,
   "metadata": {},
   "outputs": [],
   "source": [
    "lowerbody_motsignals_range = {\n",
    "    'pelvis_tilt':(-90,90),\n",
    "    'pelvis_list':(-90,90),\n",
    "    'pelvis_rotation':(-110,110),\n",
    "    'hip_flexion_r':(-30,120),\n",
    "    'hip_adduction_r':(-50,30),\n",
    "    'hip_rotation_r':(-60,40),\n",
    "    'knee_angle_r':(-20,120),\n",
    "    'hip_flexion_l':(-30,120),\n",
    "    'hip_adduction_l':(-50,30),\n",
    "    'hip_rotation_l':(-60,40),\n",
    "    'knee_angle_l':(-20,120)\n",
    "}\n",
    "\n",
    "upperbody_motsignals_range = {\n",
    "    'lumbar_extension':(-90,90),\n",
    "    'lumbar_bending':(-90,90),\n",
    "    'lumbar_rotation':(-90,90),\n",
    "    'arm_flex_r':(-90,180),\n",
    "    'arm_add_r':(-180,90),\n",
    "    'arm_rot_r':(-90,100),\n",
    "    'elbow_flex_r':(-10,180),\n",
    "    'pro_sup_r':(-10,180),\n",
    "    'arm_flex_l':(-90,190),\n",
    "    'arm_add_l':(-180,90),\n",
    "    'arm_rot_l':(-90,100),\n",
    "    'elbow_flex_l':(-10,190),\n",
    "    'pro_sup_l':(-10,200),\n",
    "}"
   ]
  },
  {
   "cell_type": "code",
   "execution_count": null,
   "metadata": {},
   "outputs": [],
   "source": [
    "for activity,legend in zip(dataset_activities,activities_legend):\n",
    "    if activity in lower_activities:\n",
    "        motsignals = lowerbody_motsignals\n",
    "        motrange = lowerbody_motsignals_range\n",
    "    elif activity in upper_activities:\n",
    "        motsignals = upperbody_motsignals\n",
    "        motrange = upperbody_motsignals_range\n",
    "    print(\"Activity: \"+activity)\n",
    "    plotMotJointAnglesPerActivity(inpath,outpath,subjects,activity,legend,motsignals,motrange,\"IMUsJointAngles_\"+activity+\"_\"+legend)\n",
    "\n"
   ]
  }
 ],
 "metadata": {
  "kernelspec": {
   "display_name": "Python 3.8.5 64-bit",
   "language": "python",
   "name": "python3"
  },
  "language_info": {
   "codemirror_mode": {
    "name": "ipython",
    "version": 3
   },
   "file_extension": ".py",
   "mimetype": "text/x-python",
   "name": "python",
   "nbconvert_exporter": "python",
   "pygments_lexer": "ipython3",
   "version": "3.8.5"
  },
  "orig_nbformat": 4,
  "vscode": {
   "interpreter": {
    "hash": "362938921e6a6f70681e94dc428cff52a3d9f379f3c37b40545fe52838ece3cf"
   }
  }
 },
 "nbformat": 4,
 "nbformat_minor": 2
}
