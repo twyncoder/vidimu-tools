{
 "cells": [
  {
   "cell_type": "code",
   "execution_count": null,
   "metadata": {},
   "outputs": [],
   "source": [
    "import os\n",
    "import sys\n",
    "sys.path.append(os.path.dirname(os.getcwd())) #Add project dir to path\n",
    "from utils.plotUtilities import plotRawQuaternionsPerActivity"
   ]
  },
  {
   "attachments": {},
   "cell_type": "markdown",
   "metadata": {},
   "source": [
    "## Generates plots _.svg_ and _.pdf_ of the raw quaternion data acquired with custom IMU sensors and stored as _.raw_ files"
   ]
  },
  {
   "attachments": {},
   "cell_type": "markdown",
   "metadata": {},
   "source": [
    "Set dataset root"
   ]
  },
  {
   "cell_type": "code",
   "execution_count": null,
   "metadata": {},
   "outputs": [],
   "source": [
    "fulldatasetpath = 'D:/VIDIMU'"
   ]
  },
  {
   "attachments": {},
   "cell_type": "markdown",
   "metadata": {},
   "source": [
    "Select activities"
   ]
  },
  {
   "cell_type": "code",
   "execution_count": null,
   "metadata": {},
   "outputs": [],
   "source": [
    "lower_activities = [\"A01\",\"A02\",\"A03\",\"A04\"]\n",
    "upper_activities = [\"A05\",\"A06\",\"A07\",\"A08\",\"A09\",\"A10\",\"A11\",\"A12\",\"A13\"]\n",
    "dataset_activities = lower_activities + upper_activities\n",
    "activities_legend = [\"walk_forward\", \"walk_backward\", \"walk_along\",\"sit_to_stand\",\n",
    "\"move_right_arm\",\"move_left_arm\",\"drink_right_arm\",\"drink_left_arm\", \"assemble_both_arms\",\"throw_both_arms\",\n",
    "\"reachup_right_arm\",\"reachup_left_arm\",\"tear_both_arms\"]"
   ]
  },
  {
   "attachments": {},
   "cell_type": "markdown",
   "metadata": {},
   "source": [
    "### 1. From 'dataset/videandimus' to 'analysis/videoandimus/quats'"
   ]
  },
  {
   "cell_type": "code",
   "execution_count": null,
   "metadata": {},
   "outputs": [],
   "source": [
    "subjects = [\"S40\",\"S41\",\"S42\",  \"S44\",  \"S46\",\"S47\",\"S48\",\"S49\",\"S50\",\n",
    "            \"S51\",\"S52\",\"S53\",\"S54\",\"S55\",\"S56\",\"S57\"]"
   ]
  },
  {
   "cell_type": "code",
   "execution_count": null,
   "metadata": {},
   "outputs": [],
   "source": [
    "inpath = os.path.join(fulldatasetpath,'dataset','videoandimus')\n",
    "outpath = os.path.join(fulldatasetpath,'analysis','videoandimus','quats')\n",
    "if not os.path.exists(outpath):\n",
    "    os.makedirs(outpath)\n",
    "for activity,legend in zip(dataset_activities,activities_legend):\n",
    "    print(\"Activity \"+activity)\n",
    "    if activity in lower_activities:\n",
    "        imu_list=['qsHIPS','qsRUL','qsRLL','qsLUL','qsLLL']\n",
    "    elif activity in upper_activities:\n",
    "        imu_list=['qsBACK','qsRUA','qsRLA','qsLUA','qsLLA']\n",
    "    plotRawQuaternionsPerActivity(inpath,outpath,subjects,activity,legend,imu_list,'RawQuaternions_'+activity+'_'+legend)"
   ]
  }
 ],
 "metadata": {
  "kernelspec": {
   "display_name": "Python 3.8.5 64-bit",
   "language": "python",
   "name": "python3"
  },
  "language_info": {
   "codemirror_mode": {
    "name": "ipython",
    "version": 3
   },
   "file_extension": ".py",
   "mimetype": "text/x-python",
   "name": "python",
   "nbconvert_exporter": "python",
   "pygments_lexer": "ipython3",
   "version": "3.8.5"
  },
  "orig_nbformat": 4,
  "vscode": {
   "interpreter": {
    "hash": "362938921e6a6f70681e94dc428cff52a3d9f379f3c37b40545fe52838ece3cf"
   }
  }
 },
 "nbformat": 4,
 "nbformat_minor": 2
}
